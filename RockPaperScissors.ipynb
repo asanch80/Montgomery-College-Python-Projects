{
 "cells": [
  {
   "cell_type": "raw",
   "id": "a4128443",
   "metadata": {},
   "source": [
    "Create a program where the user can play a game of rock, paper, scissors against a computer. Set a play choice (rock, paper, or scissors) for the computer player and during the program, request for the user to input their play choice.\n",
    "\n",
    "The rules in Rock, Paper, Scissors are:\n",
    "\n",
    "Rock beats scissors\n",
    "Scissors beats paper\n",
    "Paper beats rock\n",
    "\n",
    "If the user wins, then display \"You win!\" If they lose against the computer, then display \"You lose.\" If the computer and the user have the same play choice, display \"It's a draw.\"\n",
    "\n",
    "BONUS: Randomize the play choice for the computer (hint: Python has a library called random). Also ask the user if they would like to play again. If they do, start the game again but if not, thank the user for playing the game."
   ]
  },
  {
   "cell_type": "code",
   "execution_count": null,
   "id": "f8d635e6",
   "metadata": {},
   "outputs": [
    {
     "name": "stdout",
     "output_type": "stream",
     "text": [
      "---Please enter one of these numbers as your choice: 0.Rock 1.Paper 2.Scissors ---\n",
      "1\n",
      "Your choice was:  Paper\n",
      "Computer choice was:  Paper\n",
      "This is a draw\n",
      "Would you like to play again? Please enter \"Y\" for yes, or \"N\" for No: m\n"
     ]
    }
   ],
   "source": [
    "import random\n",
    "def rpsgame ():\n",
    "    while True:\n",
    "        try:  \n",
    "            Choices = ['Rock','Paper','Scissors']#game choices\n",
    "            userEntry = int(input('---Please enter one of these numbers as your choice: 0.Rock 1.Paper 2.Scissors ---\\n'))\n",
    "            user = Choices[userEntry] #linking variable with Choices\n",
    "\n",
    "            #computer choices\n",
    "            randomRPS = random.choice(Choices)\n",
    "\n",
    "            print ('Your choice was: ', user)\n",
    "            print ('Computer choice was: ', randomRPS)\n",
    "\n",
    "#---------------------------------Rules of the Game---------------------------------\n",
    "\n",
    "            if user == 'Rock' and randomRPS == 'Scissors':\n",
    "                print ('You win!')\n",
    "            elif user == 'Scissors' and randomRPS == 'Paper':\n",
    "                print ('You win!')\n",
    "            elif user == 'Paper' and randomRPS == 'Rock':\n",
    "                print ('You win!')\n",
    "            elif user == randomRPS:\n",
    "                print ('This is a draw')\n",
    "            else:\n",
    "                print ('You lose')\n",
    "#-----------------------------------------------------------------------------------    \n",
    "            playAgain = input('Would you like to play again? Please enter \"Y\" for yes, or \"N\" for No: ')\n",
    "            if playAgain == 'N' or playAgain == 'n':#if user input equals N or n, the game will stop.\n",
    "                print('Thank you for paying!!!')\n",
    "                break\n",
    "            \n",
    "        except:\n",
    "            print('Please enter a valid option!!!')\n",
    "rpsgame ()"
   ]
  },
  {
   "cell_type": "code",
   "execution_count": null,
   "id": "930b5212",
   "metadata": {},
   "outputs": [],
   "source": []
  }
 ],
 "metadata": {
  "kernelspec": {
   "display_name": "Python 3 (ipykernel)",
   "language": "python",
   "name": "python3"
  },
  "language_info": {
   "codemirror_mode": {
    "name": "ipython",
    "version": 3
   },
   "file_extension": ".py",
   "mimetype": "text/x-python",
   "name": "python",
   "nbconvert_exporter": "python",
   "pygments_lexer": "ipython3",
   "version": "3.11.4"
  }
 },
 "nbformat": 4,
 "nbformat_minor": 5
}
